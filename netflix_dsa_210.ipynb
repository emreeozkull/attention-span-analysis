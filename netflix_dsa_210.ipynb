{
 "cells": [
  {
   "cell_type": "markdown",
   "metadata": {},
   "source": [
    "# Netflix Viewing Pattern Analysis for Digital Attention Span\n",
    "\n",
    "This notebook analyzes personal Netflix viewing patterns to understand changes in attention span over time. The analysis includes:\n",
    "\n",
    "1. Basic viewing statistics and patterns\n",
    "2. Time-based analysis (daily, weekly, monthly)\n",
    "3. Binge-watching detection\n",
    "4. Predictive analysis\n",
    "5. Statistical tests and trend analysis"
   ]
  },
  {
   "cell_type": "markdown",
   "metadata": {},
   "source": [
    "## 1. Data Loading and Initial Processing\n",
    "\n",
    "First, we'll load the Netflix viewing history data from the CSV file and process it into a suitable format for analysis."
   ]
  },
  {
   "cell_type": "code",
   "execution_count": null,
   "metadata": {},
   "outputs": [],
   "source": [
    "import csv\n",
    "from datetime import datetime\n",
    "\n",
    "dates = []\n",
    "durations = []\n",
    "\n",
    "with open('data/ViewingActivity.csv', 'r') as file:\n",
    "    reader = csv.DictReader(file)\n",
    "    \n",
    "    for row in reader:\n",
    "        if row[\"Profile Name\"] == \"C\":\n",
    "            date = datetime.strptime(row[\"Start Time\"].split(\" \")[0], '%Y-%m-%d')\n",
    "            \n",
    "            duration_parts = row[\"Duration\"].split(':')\n",
    "            duration_minutes = (int(duration_parts[0]) * 60 + \n",
    "                             int(duration_parts[1]) +\n",
    "                             int(duration_parts[2]) / 60)\n",
    "            \n",
    "            dates.append(date)\n",
    "            durations.append(duration_minutes)"
   ]
  },
  {
   "cell_type": "markdown",
   "metadata": {},
   "source": [
    "## 2. Basic Viewing Statistics\n",
    "\n",
    "Let's calculate and display some fundamental statistics about viewing patterns."
   ]
  },
  {
   "cell_type": "code",
   "execution_count": null,
   "metadata": {},
   "outputs": [],
   "source": [
    "sessions = len(dates)\n",
    "sum_durations = sum(durations)\n",
    "avg_duration = sum_durations / sessions\n",
    "\n",
    "print(f\"Total Viewing Sessions: {sessions}\")\n",
    "print(f\"Total Viewing Duration: {sum_durations:.2f} minutes\")\n",
    "print(f\"Average Session Duration: {avg_duration:.2f} minutes\")"
   ]
  },
  {
   "cell_type": "markdown",
   "metadata": {},
   "source": [
    "## 3. Daily Viewing Patterns Analysis\n",
    "\n",
    "Let's analyze how viewing patterns vary by day of the week and create visualizations to better understand these patterns."
   ]
  },
  {
   "cell_type": "code",
   "execution_count": null,
   "metadata": {},
   "outputs": [],
   "source": [
    "import pandas as pd\n",
    "import matplotlib.pyplot as plt\n",
    "import seaborn as sns\n",
    "\n",
    "# Create DataFrame with viewing data\n",
    "df = pd.DataFrame({\n",
    "    'date': dates,\n",
    "    'duration': durations\n",
    "})\n",
    "\n",
    "# Add day of week\n",
    "df['day_of_week'] = df['date'].dt.day_name()\n",
    "\n",
    "# Calculate average duration by day\n",
    "daily_avg = df.groupby('day_of_week')['duration'].mean()\n",
    "\n",
    "# Create bar plot\n",
    "plt.figure(figsize=(10, 6))\n",
    "daily_avg.plot(kind='bar')\n",
    "plt.title('Average Viewing Duration by Day of Week')\n",
    "plt.xlabel('Day of Week')\n",
    "plt.ylabel('Average Duration (minutes)')\n",
    "plt.xticks(rotation=45)\n",
    "plt.tight_layout()\n",
    "plt.show()"
   ]
  },
  {
   "cell_type": "markdown",
   "metadata": {},
   "source": [
    "## 4. Monthly Viewing Analysis\n",
    "\n",
    "Now let's examine how viewing patterns change month over month."
   ]
  },
  {
   "cell_type": "code",
   "execution_count": null,
   "metadata": {},
   "outputs": [],
   "source": [
    "# Add month column\n",
    "df['month'] = df['date'].dt.to_period('M')\n",
    "\n",
    "# Calculate monthly statistics\n",
    "monthly_stats = df.groupby('month').agg({\n",
    "    'duration': ['count', 'mean', 'sum']\n",
    "}).reset_index()\n",
    "\n",
    "# Create subplot for monthly trends\n",
    "fig, (ax1, ax2) = plt.subplots(2, 1, figsize=(12, 10))\n",
    "\n",
    "# Plot 1: Number of sessions per month\n",
    "ax1.plot(monthly_stats['month'].astype(str), monthly_stats['duration']['count'], marker='o')\n",
    "ax1.set_title('Number of Viewing Sessions per Month')\n",
    "ax1.set_xticklabels(monthly_stats['month'].astype(str), rotation=45)\n",
    "\n",
    "# Plot 2: Average duration per month\n",
    "ax2.plot(monthly_stats['month'].astype(str), monthly_stats['duration']['mean'], marker='o', color='green')\n",
    "ax2.set_title('Average Session Duration per Month')\n",
    "ax2.set_xticklabels(monthly_stats['month'].astype(str), rotation=45)\n",
    "\n",
    "plt.tight_layout()\n",
    "plt.show()"
   ]
  },
  {
   "cell_type": "markdown",
   "metadata": {},
   "source": [
    "## 5. Binge-Watching Detection\n",
    "\n",
    "Let's identify and analyze binge-watching sessions (multiple episodes watched consecutively)."
   ]
  },
  {
   "cell_type": "code",
   "execution_count": null,
   "metadata": {},
   "outputs": [],
   "source": [
    "from datetime import timedelta\n",
    "\n",
    "def detect_binge_sessions(df, max_gap_minutes=30, min_episodes=3):\n",
    "    \"\"\"Detect binge-watching sessions based on time gaps between episodes\"\"\"\n",
    "    df = df.sort_values('date')\n",
    "    \n",
    "    binge_sessions = []\n",
    "    current_session = []\n",
    "    \n",
    "    for i in range(len(df)-1):\n",
    "        if current_session == []:\n",
    "            current_session.append(i)\n",
    "            \n",
    "        time_gap = (df.iloc[i+1]['date'] - df.iloc[i]['date']).total_seconds() / 60\n",
    "        \n",
    "        if time_gap <= max_gap_minutes:\n",
    "            current_session.append(i+1)\n",
    "        else:\n",
    "            if len(current_session) >= min_episodes:\n",
    "                binge_sessions.append(current_session)\n",
    "            current_session = []\n",
    "    \n",
    "    return binge_sessions\n",
    "\n",
    "# Detect binge sessions\n",
    "binge_sessions = detect_binge_sessions(df)\n",
    "\n",
    "# Calculate binge-watching statistics\n",
    "total_binge_sessions = len(binge_sessions)\n",
    "avg_episodes_per_binge = sum(len(session) for session in binge_sessions) / total_binge_sessions if total_binge_sessions > 0 else 0\n",
    "\n",
    "print(f\"Total number of binge-watching sessions: {total_binge_sessions}\")\n",
    "print(f\"Average episodes per binge: {avg_episodes_per_binge:.2f}\")"
   ]
  },
  {
   "cell_type": "markdown",
   "metadata": {},
   "source": [
    "## 6. Weekly Patterns and Rolling Averages\n",
    "\n",
    "Analyze weekly viewing patterns and calculate rolling averages to identify trends."
   ]
  },
  {
   "cell_type": "code",
   "execution_count": null,
   "metadata": {},
   "outputs": [],
   "source": [
    "# Calculate weekly statistics\n",
    "df['week'] = df['date'].dt.isocalendar().week\n",
    "df['year'] = df['date'].dt.year\n",
    "\n",
    "weekly_stats = df.groupby(['year', 'week'])['duration'].agg([\n",
    "    'count',\n",
    "    'mean',\n",
    "    'sum'\n",
    "]).reset_index()\n",
    "\n",
    "# Calculate rolling averages\n",
    "rolling_avg = weekly_stats['mean'].rolling(window=4).mean()\n",
    "\n",
    "# Plot weekly trends with rolling average\n",
    "plt.figure(figsize=(12, 6))\n",
    "plt.plot(weekly_stats['mean'], label='Weekly Average', alpha=0.5)\n",
    "plt.plot(rolling_avg, label='4-Week Rolling Average', linewidth=2)\n",
    "plt.title('Weekly Viewing Duration with Rolling Average')\n",
    "plt.xlabel('Week Number')\n",
    "plt.ylabel('Average Duration (minutes)')\n",
    "plt.legend()\n",
    "plt.tight_layout()\n",
    "plt.show()"
   ]
  },
  {
   "cell_type": "markdown",
   "metadata": {},
   "source": [
    "## 7. Statistical Analysis and Attention Span Metrics\n",
    "\n",
    "Calculate key metrics related to attention span and perform statistical tests."
   ]
  },
  {
   "cell_type": "code",
   "execution_count": null,
   "metadata": {},
   "outputs": [],
   "source": [
    "from scipy import stats\n",
    "\n",
    "# Calculate attention span metrics\n",
    "def calculate_attention_metrics(df):\n",
    "    metrics = {\n",
    "        'median_duration': df['duration'].median(),\n",
    "        'duration_std': df['duration'].std(),\n",
    "        'session_consistency': 1 - (df['duration'].std() / df['duration'].mean()),\n",
    "        'completion_rate': len(df[df['duration'] >= 40]) / len(df)  # Assuming 40 min is typical episode length\n",
    "    }\n",
    "    return metrics\n",
    "\n",
    "# Calculate metrics for first and second half of the dataset\n",
    "mid_point = df['date'].median()\n",
    "first_half = df[df['date'] <= mid_point]\n",
    "second_half = df[df['date'] > mid_point]\n",
    "\n",
    "metrics_first = calculate_attention_metrics(first_half)\n",
    "metrics_second = calculate_attention_metrics(second_half)\n",
    "\n",
    "# Perform t-test to compare durations\n",
    "t_stat, p_value = stats.ttest_ind(first_half['duration'], second_half['duration'])\n",
    "\n",
    "print(\"Attention Span Metrics:\")\n",
    "print(\"\\nFirst Half of Data:\")\n",
    "for metric, value in metrics_first.items():\n",
    "    print(f\"{metric}: {value:.2f}\")\n",
    "\n",
    "print(\"\\nSecond Half of Data:\")\n",
    "for metric, value in metrics_second.items():\n",
    "    print(f\"{metric}: {value:.2f}\")\n",
    "\n",
    "print(f\"\\nT-test p-value: {p_value:.4f}\")"
   ]
  }
 ],
 "metadata": {
  "kernelspec": {
   "display_name": "Python 3",
   "language": "python",
   "name": "python3"
  }
 },
 "nbformat": 4,
 "nbformat_minor": 4
}
