{
 "cells": [
  {
   "cell_type": "markdown",
   "metadata": {},
   "source": [
    "# Netflix Viewing Activity Analysis\n",
    "\n",
    "This notebook provides a comprehensive analysis of Netflix viewing patterns, including:\n",
    "\n",
    "1. Basic viewing statistics\n",
    "2. Daily and monthly patterns\n",
    "3. Binge-watching detection\n",
    "4. Weekly viewing patterns\n",
    "5. Day of week analysis\n",
    "\n",
    "Let's start by importing the required libraries."
   ]
  },
  {
   "cell_type": "code",
   "execution_count": null,
   "metadata": {},
   "outputs": [],
   "source": [
    "import csv\n",
    "from datetime import datetime, timedelta\n",
    "import matplotlib.pyplot as plt\n",
    "import matplotlib.dates as mdates\n",
    "import pandas as pd\n",
    "import seaborn as sns\n",
    "from collections import defaultdict"
   ]
  },
  {
   "cell_type": "markdown",
   "metadata": {},
   "source": [
    "## Data Loading and Processing\n",
    "\n",
    "We'll load the viewing activity data from the CSV file and process it to extract dates and durations."
   ]
  },
  {
   "cell_type": "code",
   "execution_count": null,
   "metadata": {},
   "outputs": [],
   "source": [
    "dates = []\n",
    "durations = []\n",
    "\n",
    "with open('/Users/emreozkul/Desktop/dsa-project/attention-span-analysis/data/ViewingActivity.csv', 'r') as file:\n",
    "    reader = csv.DictReader(file)\n",
    "\n",
    "    for row in reader:\n",
    "        if row[\"Profile Name\"] == \"C\":\n",
    "            date = datetime.strptime(row[\"Start Time\"].split(\" \")[0], '%Y-%m-%d')\n",
    "            \n",
    "            # Convert duration string (e.g., \"1:23:45\") to minutes\n",
    "            duration_parts = row[\"Duration\"].split(':')\n",
    "            duration_minutes = (int(duration_parts[0]) * 60 + \n",
    "                             int(duration_parts[1]) +\n",
    "                             int(duration_parts[2]) / 60)\n",
    "            \n",
    "            dates.append(date)\n",
    "            durations.append(duration_minutes)"
   ]
  },
  {
   "cell_type": "markdown",
   "metadata": {},
   "source": [
    "## Basic Statistics\n",
    "\n",
    "Let's calculate and display some basic statistics about viewing patterns."
   ]
  },
  {
   "cell_type": "code",
   "execution_count": null,
   "metadata": {},
   "outputs": [],
   "source": [
    "sessions = len(dates)\n",
    "sum_durations = sum(durations)\n",
    "avg_duration = sum_durations / sessions\n",
    "\n",
    "print(f\"Total Sessions: {sessions}\")\n",
    "print(f\"Total Duration (minutes): {sum_durations:.2f}\")\n",
    "print(f\"Average Duration per Session (minutes): {avg_duration:.2f}\")"
   ]
  },
  {
   "cell_type": "markdown",
   "metadata": {},
   "source": [
    "## Daily Viewing Patterns\n",
    "\n",
    "This analysis shows how viewing duration varies day by day."
   ]
  },
  {
   "cell_type": "code",
   "execution_count": null,
   "metadata": {},
   "outputs": [],
   "source": [
    "def plot_data():\n",
    "    plt.figure(figsize=(12, 6))\n",
    "    plt.plot(dates, durations, marker='o')\n",
    "    \n",
    "    plt.gcf().autofmt_xdate()\n",
    "    plt.gca().xaxis.set_major_formatter(mdates.DateFormatter('%Y-%m-%d'))\n",
    "    \n",
    "    plt.xlabel('Date')\n",
    "    plt.ylabel('Duration (minutes)')\n",
    "    plt.title('Viewing Duration Over Time')\n",
    "    plt.grid(True, linestyle='--', alpha=0.7)\n",
    "    plt.tight_layout()\n",
    "    plt.show()\n",
    "\n",
    "plot_data()"
   ]
  },
  {
   "cell_type": "markdown",
   "metadata": {},
   "source": [
    "## Monthly Average Analysis\n",
    "\n",
    "Let's analyze how viewing patterns change month by month."
   ]
  },
  {
   "cell_type": "code",
   "execution_count": null,
   "metadata": {},
   "outputs": [],
   "source": [
    "# Calculate monthly averages\n",
    "df = pd.DataFrame({'date': dates, 'duration': durations})\n",
    "df['month_year'] = df['date'].dt.to_period('M')\n",
    "monthly_avg = df.groupby('month_year')['duration'].mean().reset_index()\n",
    "monthly_avg['month_year'] = monthly_avg['month_year'].dt.to_timestamp()\n",
    "\n",
    "# Create the plot\n",
    "plt.figure(figsize=(12, 6))\n",
    "plt.plot(monthly_avg['month_year'], monthly_avg['duration'], marker='o', linewidth=2)\n",
    "\n",
    "plt.gcf().autofmt_xdate()\n",
    "plt.gca().xaxis.set_major_formatter(mdates.DateFormatter('%Y-%m'))\n",
    "plt.xlabel('Month')\n",
    "plt.ylabel('Average Duration (minutes)')\n",
    "plt.title('Monthly Average Viewing Duration')\n",
    "plt.grid(True, linestyle='--', alpha=0.7)\n",
    "plt.tight_layout()\n",
    "plt.show()\n",
    "\n",
    "# Print monthly statistics\n",
    "print(\"\\nMonthly Statistics:\")\n",
    "for _, row in monthly_avg.iterrows():\n",
    "    print(f\"{row['month_year'].strftime('%Y-%m')}: {row['duration']:.2f} minutes\")"
   ]
  },
  {
   "cell_type": "markdown",
   "metadata": {},
   "source": [
    "## Binge-Watching Analysis\n",
    "\n",
    "This analysis identifies potential binge-watching sessions based on consecutive viewing patterns."
   ]
  },
  {
   "cell_type": "code",
   "execution_count": null,
   "metadata": {},
   "outputs": [],
   "source": [
    "def detect_binge_watching(threshold_hours=3):\n",
    "    df = pd.DataFrame({'date': dates, 'duration': durations})\n",
    "    df = df.sort_values('date')\n",
    "    \n",
    "    binge_sessions = []\n",
    "    current_binge = []\n",
    "    \n",
    "    for i in range(len(df)-1):\n",
    "        current_session = df.iloc[i]\n",
    "        next_session = df.iloc[i+1]\n",
    "        \n",
    "        if (next_session['date'] - current_session['date']) <= timedelta(hours=threshold_hours):\n",
    "            if not current_binge:\n",
    "                current_binge.append(current_session)\n",
    "            current_binge.append(next_session)\n",
    "        else:\n",
    "            if len(current_binge) > 1:\n",
    "                binge_sessions.append(current_binge)\n",
    "            current_binge = []\n",
    "    \n",
    "    print(f\"\\nBinge Watching Sessions (>{threshold_hours}h gap):\")\n",
    "    for binge in binge_sessions:\n",
    "        total_duration = sum(session['duration'] for session in binge)\n",
    "        print(f\"Date: {binge[0]['date'].strftime('%Y-%m-%d')}, Episodes: {len(binge)}, Total Duration: {total_duration:.2f} minutes\")\n",
    "\n",
    "detect_binge_watching()"
   ]
  },
  {
   "cell_type": "markdown",
   "metadata": {},
   "source": [
    "## Weekly Viewing Patterns\n",
    "\n",
    "Analysis of viewing patterns on a weekly basis."
   ]
  },
  {
   "cell_type": "code",
   "execution_count": null,
   "metadata": {},
   "outputs": [],
   "source": [
    "def analyze_weekly_patterns():\n",
    "    df = pd.DataFrame({'date': dates, 'duration': durations})\n",
    "    \n",
    "    # Get the start of each week\n",
    "    df['week_start'] = df['date'].dt.to_period('W').dt.start_time\n",
    "    \n",
    "    # Group by week start date\n",
    "    weekly_total = df.groupby('week_start')['duration'].sum().reset_index()\n",
    "    \n",
    "    plt.figure(figsize=(12, 6))\n",
    "    plt.plot(weekly_total['week_start'], weekly_total['duration'], marker='o')\n",
    "    \n",
    "    plt.gcf().autofmt_xdate()\n",
    "    plt.gca().xaxis.set_major_formatter(mdates.DateFormatter('%Y-%m-%d'))\n",
    "    \n",
    "    plt.title('Weekly Total Viewing Time')\n",
    "    plt.xlabel('Week Starting Date')\n",
    "    plt.ylabel('Total Duration (minutes)')\n",
    "    plt.grid(True, linestyle='--', alpha=0.7)\n",
    "    plt.tight_layout()\n",
    "    plt.show()\n",
    "\n",
    "analyze_weekly_patterns()"
   ]
  },
  {
   "cell_type": "markdown",
   "metadata": {},
   "source": [
    "## Day of Week Analysis\n",
    "\n",
    "Let's examine viewing patterns across different days of the week."
   ]
  },
  {
   "cell_type": "code",
   "execution_count": null,
   "metadata": {},
   "outputs": [],
   "source": [
    "def analyze_day_of_week():\n",
    "    df = pd.DataFrame({'date': dates, 'duration': durations})\n",
    "    df['day_of_week'] = df['date'].dt.day_name()\n",
    "    \n",
    "    # Calculate average duration by day of week\n",
    "    day_avg = df.groupby('day_of_week')['duration'].agg(['mean', 'count']).reset_index()\n",
    "    \n",
    "    # Set specific day order\n",
    "    day_order = ['Monday', 'Tuesday', 'Wednesday', 'Thursday', 'Friday', 'Saturday', 'Sunday']\n",
    "    day_avg['day_of_week'] = pd.Categorical(day_avg['day_of_week'], categories=day_order, ordered=True)\n",
    "    day_avg = day_avg.sort_values('day_of_week')\n",
    "    \n",
    "    # Create bar plot\n",
    "    plt.figure(figsize=(12, 6))\n",
    "    plt.bar(day_avg['day_of_week'], day_avg['mean'])\n",
    "    plt.title('Average Viewing Duration by Day of Week')\n",
    "    plt.xlabel('Day of Week')\n",
    "    plt.ylabel('Average Duration (minutes)')\n",
    "    plt.xticks(rotation=45)\n",
    "    plt.grid(True, linestyle='--', alpha=0.7)\n",
    "    plt.tight_layout()\n",
    "    plt.show()\n",
    "    \n",
    "    print(\"\\nViewing Statistics by Day of Week:\")\n",
    "    for _, row in day_avg.iterrows():\n",
    "        print(f\"{row['day_of_week']}: {row['mean']:.2f} minutes (Sessions: {row['count']})\")    \n",
    "\n",
    "analyze_day_of_week()"
   ]
  },
  {
   "cell_type": "markdown",
   "metadata": {},
   "source": [
    "## Analysis Summary\n",
    "\n",
    "This notebook provides comprehensive insights into Netflix viewing patterns:\n",
    "\n",
    "1. **Basic Statistics**: Total viewing time and average session duration\n",
    "2. **Daily Patterns**: Individual viewing sessions and daily variations\n",
    "3. **Monthly Trends**: Long-term changes in viewing habits\n",
    "4. **Binge-Watching**: Identification of extended viewing sessions\n",
    "5. **Weekly Patterns**: Total viewing time per week\n",
    "6. **Day of Week Analysis**: Viewing preferences across different days\n",
    "\n",
    "These insights can be valuable for:\n",
    "- Understanding personal viewing habits\n",
    "- Identifying patterns in content consumption\n",
    "- Analyzing changes in attention span over time"
   ]
  }
 ],
 "metadata": {
  "kernelspec": {
   "display_name": "Python 3",
   "language": "python",
   "name": "python3"
  }
 },
 "nbformat": 4,
 "nbformat_minor": 4
}
