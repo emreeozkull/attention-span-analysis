{
 "cells": [
  {
   "cell_type": "markdown",
   "metadata": {},
   "source": [
    "# Netflix Viewing Activity Analysis\n",
    "\n",
    "This notebook analyzes Netflix viewing activity data to understand viewing patterns and trends over time. We'll examine:\n",
    "\n",
    "1. Daily viewing durations\n",
    "2. Basic statistics (total sessions, total duration, average duration)\n",
    "3. Monthly viewing averages\n",
    "4. Rolling averages to identify trends\n",
    "\n",
    "Let's start by importing the required libraries and loading our data."
   ]
  },
  {
   "cell_type": "code",
   "execution_count": null,
   "metadata": {},
   "outputs": [],
   "source": [
    "import csv\n",
    "from datetime import datetime\n",
    "import matplotlib.pyplot as plt\n",
    "import matplotlib.dates as mdates\n",
    "from datetime import datetime, timedelta\n",
    "import pandas as pd"
   ]
  },
  {
   "cell_type": "markdown",
   "metadata": {},
   "source": [
    "## Data Loading and Processing\n",
    "\n",
    "We'll load the viewing activity data from the CSV file. For each viewing session, we'll:\n",
    "- Extract the date from the start time\n",
    "- Convert duration from HH:MM:SS format to minutes\n",
    "- Filter for a specific profile ('C')"
   ]
  },
  {
   "cell_type": "code",
   "execution_count": null,
   "metadata": {},
   "outputs": [],
   "source": [
    "dates = []\n",
    "durations = []\n",
    "\n",
    "with open('/Users/emreozkul/Desktop/dsa-project/attention-span-analysis/data/ViewingActivity.csv', 'r') as file:\n",
    "    reader = csv.DictReader(file)\n",
    "\n",
    "    for row in reader:\n",
    "        if row[\"Profile Name\"] == \"C\":\n",
    "            date = datetime.strptime(row[\"Start Time\"].split(\" \")[0], '%Y-%m-%d')\n",
    "            \n",
    "            # Convert duration string (e.g., \"1:23:45\") to minutes\n",
    "            duration_parts = row[\"Duration\"].split(':')\n",
    "            duration_minutes = (int(duration_parts[0]) * 60 + \n",
    "                             int(duration_parts[1]) +\n",
    "                             int(duration_parts[2]) / 60)\n",
    "            \n",
    "            dates.append(date)\n",
    "            durations.append(duration_minutes)"
   ]
  },
  {
   "cell_type": "markdown",
   "metadata": {},
   "source": [
    "## Basic Statistics\n",
    "\n",
    "Let's calculate some basic statistics about the viewing activity:"
   ]
  },
  {
   "cell_type": "code",
   "execution_count": null,
   "metadata": {},
   "outputs": [],
   "source": [
    "sessions = len(dates)\n",
    "sum_durations = sum(durations)\n",
    "avg_duration = sum_durations / sessions\n",
    "\n",
    "print(f\"Total Sessions: {sessions}\")\n",
    "print(f\"Total Duration (minutes): {sum_durations:.2f}\")\n",
    "print(f\"Average Duration per Session (minutes): {avg_duration:.2f}\")"
   ]
  },
  {
   "cell_type": "markdown",
   "metadata": {},
   "source": [
    "## Daily Viewing Duration Visualization\n",
    "\n",
    "This plot shows the viewing duration for each day. Each point represents a viewing session."
   ]
  },
  {
   "cell_type": "code",
   "execution_count": null,
   "metadata": {},
   "outputs": [],
   "source": [
    "def plot_data():\n",
    "    plt.figure(figsize=(12, 6))\n",
    "    plt.plot(dates, durations, marker='o')\n",
    "\n",
    "    plt.gcf().autofmt_xdate()\n",
    "    plt.gca().xaxis.set_major_formatter(mdates.DateFormatter('%Y-%m-%d'))\n",
    "\n",
    "    plt.xlabel('Date')\n",
    "    plt.ylabel('Duration (minutes)')\n",
    "    plt.title('Viewing Duration Over Time')\n",
    "    plt.grid(True, linestyle='--', alpha=0.7)\n",
    "    plt.tight_layout()\n",
    "    plt.show()\n",
    "\n",
    "plot_data()"
   ]
  },
  {
   "cell_type": "markdown",
   "metadata": {},
   "source": [
    "## Monthly Average Analysis\n",
    "\n",
    "To better understand long-term trends, let's analyze the monthly averages of viewing duration."
   ]
  },
  {
   "cell_type": "code",
   "execution_count": null,
   "metadata": {},
   "outputs": [],
   "source": [
    "# Calculate monthly averages\n",
    "df = pd.DataFrame({'date': dates, 'duration': durations})\n",
    "df['month_year'] = df['date'].dt.to_period('M')\n",
    "monthly_avg = df.groupby('month_year')['duration'].mean().reset_index()\n",
    "monthly_avg['month_year'] = monthly_avg['month_year'].dt.to_timestamp()\n",
    "\n",
    "# Create the plot\n",
    "plt.figure(figsize=(12, 6))\n",
    "plt.plot(monthly_avg['month_year'], monthly_avg['duration'], marker='o', linewidth=2)\n",
    "\n",
    "plt.gcf().autofmt_xdate()\n",
    "plt.gca().xaxis.set_major_formatter(mdates.DateFormatter('%Y-%m'))\n",
    "plt.xlabel('Month')\n",
    "plt.ylabel('Average Duration (minutes)')\n",
    "plt.title('Monthly Average Viewing Duration')\n",
    "plt.grid(True, linestyle='--', alpha=0.7)\n",
    "plt.tight_layout()\n",
    "plt.show()\n",
    "\n",
    "# Print monthly statistics\n",
    "print(\"\\nMonthly Statistics:\")\n",
    "for _, row in monthly_avg.iterrows():\n",
    "    print(f\"{row['month_year'].strftime('%Y-%m')}: {row['duration']:.2f} minutes\")"
   ]
  },
  {
   "cell_type": "markdown",
   "metadata": {},
   "source": [
    "## Rolling Average Analysis\n",
    "\n",
    "To smooth out daily variations and see clearer trends, let's calculate a 7-day rolling average of viewing duration."
   ]
  },
  {
   "cell_type": "code",
   "execution_count": null,
   "metadata": {},
   "outputs": [],
   "source": [
    "def plot_average_duration_over_time():\n",
    "    df = pd.DataFrame({'date': dates, 'duration': durations})\n",
    "    df = df.sort_values('date')\n",
    "    \n",
    "    # Calculate 7-day rolling average\n",
    "    df['rolling_avg'] = df['duration'].rolling(window=7, min_periods=1).mean()\n",
    "\n",
    "    plt.figure(figsize=(12, 6))\n",
    "    plt.scatter(df['date'], df['duration'], alpha=0.4, label='Individual Sessions')\n",
    "    plt.plot(df['date'], df['rolling_avg'], color='red', linewidth=2, label='7-day Rolling Average')\n",
    "\n",
    "    plt.gcf().autofmt_xdate()\n",
    "    plt.gca().xaxis.set_major_formatter(mdates.DateFormatter('%Y-%m-%d'))\n",
    "    plt.xlabel('Date')\n",
    "    plt.ylabel('Duration (minutes)')\n",
    "    plt.title('Average Viewing Duration Over Time')\n",
    "    plt.legend()\n",
    "    plt.grid(True, linestyle='--', alpha=0.7)\n",
    "    plt.tight_layout()\n",
    "    plt.show()\n",
    "\n",
    "plot_average_duration_over_time()"
   ]
  },
  {
   "cell_type": "markdown",
   "metadata": {},
   "source": [
    "## Analysis Summary\n",
    "\n",
    "This analysis provides several insights into Netflix viewing patterns:\n",
    "\n",
    "1. **Daily Patterns**: The scatter plot shows individual viewing sessions, revealing daily viewing habits and potential binge-watching sessions.\n",
    "\n",
    "2. **Monthly Trends**: The monthly averages help identify seasonal patterns or long-term changes in viewing habits.\n",
    "\n",
    "3. **Rolling Average**: The 7-day rolling average smooths out daily variations, making it easier to spot trends and patterns in viewing behavior.\n",
    "\n",
    "4. **Overall Statistics**: We can see the total number of viewing sessions and average duration, giving us a broad picture of Netflix usage.\n",
    "\n",
    "This data can be useful for:\n",
    "- Understanding personal viewing habits\n",
    "- Identifying potential patterns in binge-watching behavior\n",
    "- Tracking changes in viewing habits over time"
   ]
  }
 ],
 "metadata": {
  "kernelspec": {
   "display_name": "Python 3",
   "language": "python",
   "name": "python3"
  },
  "language_info": {
   "codemirror_mode": {
    "name": "ipython",
    "version": 3
   },
   "file_extension": ".py",
   "mimetype": "text/x-python",
   "name": "python",
   "nbconvert_exporter": "python",
   "pygments_lexer": "ipython3",
   "version": "3.13.0"
  }
 },
 "nbformat": 4,
 "nbformat_minor": 4
}
